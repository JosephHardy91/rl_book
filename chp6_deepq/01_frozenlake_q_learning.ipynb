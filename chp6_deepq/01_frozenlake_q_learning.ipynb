{
 "cells": [
  {
   "cell_type": "code",
   "execution_count": 7,
   "metadata": {},
   "outputs": [],
   "source": [
    "import gym\n",
    "import collections\n",
    "from tensorboardX import SummaryWriter"
   ]
  },
  {
   "cell_type": "code",
   "execution_count": 8,
   "metadata": {},
   "outputs": [],
   "source": [
    "ENV_NAME = 'FrozenLake-v1'\n",
    "GAMMA = 0.9\n",
    "ALPHA = 0.2\n",
    "TEST_EPISODES = 20"
   ]
  },
  {
   "cell_type": "code",
   "execution_count": 9,
   "metadata": {},
   "outputs": [],
   "source": [
    "class Agent:\n",
    "    def __init__(self) -> None:\n",
    "        self.env = gym.make(ENV_NAME)\n",
    "        self.state = self.env.reset()\n",
    "        self.values = collections.defaultdict(float) \n",
    "        #note how we no longer need to track rewards and transition counters, just Q(s,a) values\n",
    "    \n",
    "    def sample_env(self):\n",
    "        action = self.env.action_space.sample()\n",
    "        old_state = self.state\n",
    "        new_state,reward,is_done,_ = self.env.step(action)\n",
    "        self.state = self.env.reset() if is_done else new_state\n",
    "        return (old_state,action,reward,new_state)\n",
    "    \n",
    "    def best_value_and_action(self,state):\n",
    "        best_value,best_action = None,None\n",
    "        for action in range(self.env.action_space.n):\n",
    "            action_value = self.values[(state,action)]\n",
    "            if best_value is None or best_value < action_value:\n",
    "                best_action = action\n",
    "                best_value = action_value\n",
    "        return best_value,best_action\n",
    "    \n",
    "    def value_update(self,s,a,r,next_s):\n",
    "        best_v,_ = self.best_value_and_action(next_s) #this is the `max(for each a' in A)[Q(s',a')]` portion\n",
    "        self.values[(s,a)] = (1-ALPHA)*self.values[(s,a)] + ALPHA * (r + GAMMA*best_v)\n",
    "        #self.values[(s,a)] is 0 by default (if it hasn't been set yet)\n",
    "        #the first time self.values[(s,a)] is set (and if next_s has not been seen), it will be set to ALPHA*r\n",
    "\n",
    "    def play_episode(self,env):\n",
    "        total_reward = 0.0\n",
    "        state = env.reset()\n",
    "        while True:\n",
    "            _,action = self.best_value_and_action(state)\n",
    "            new_state,reward,is_done,_ = env.step(action)\n",
    "            total_reward += reward\n",
    "            if is_done:\n",
    "                break\n",
    "            state = new_state\n",
    "        return total_reward"
   ]
  },
  {
   "cell_type": "code",
   "execution_count": 10,
   "metadata": {},
   "outputs": [
    {
     "name": "stdout",
     "output_type": "stream",
     "text": [
      "Best reward updated 0.000->0.050\n",
      "Best reward updated 0.050->0.100\n",
      "Best reward updated 0.100->0.150\n",
      "Best reward updated 0.150->0.200\n",
      "Best reward updated 0.200->0.350\n",
      "Best reward updated 0.350->0.500\n",
      "Best reward updated 0.500->0.550\n",
      "Best reward updated 0.550->0.600\n",
      "Best reward updated 0.600->0.650\n",
      "Best reward updated 0.650->0.700\n"
     ]
    }
   ],
   "source": [
    "if __name__==\"__main__\":\n",
    "    writer = SummaryWriter(comment='%s-q-iteration'%ENV_NAME)\n",
    "    test_env = gym.make(ENV_NAME)\n",
    "    agent = Agent()\n",
    "\n",
    "    iter_no = 0\n",
    "    best_reward = 0.0\n",
    "    while True:\n",
    "        iter_no+=1\n",
    "        sample = agent.sample_env()\n",
    "        agent.value_update(*sample)\n",
    "\n",
    "        reward = 0.0\n",
    "        for _ in range(TEST_EPISODES):\n",
    "            reward += agent.play_episode(test_env)\n",
    "        reward /= TEST_EPISODES\n",
    "        writer.add_scalar('reward',reward,iter_no)\n",
    "        if reward > best_reward:\n",
    "            print('Best reward updated %.3f->%.3f'%(\n",
    "                best_reward,\n",
    "                reward\n",
    "            ))\n",
    "            best_reward = reward\n",
    "        if best_reward > 0.8:\n",
    "            print('Environment solved in %d iterations'%iter_no)\n",
    "            break\n",
    "    writer.close()"
   ]
  },
  {
   "cell_type": "code",
   "execution_count": null,
   "metadata": {},
   "outputs": [],
   "source": []
  }
 ],
 "metadata": {
  "kernelspec": {
   "display_name": "rl",
   "language": "python",
   "name": "python3"
  },
  "language_info": {
   "codemirror_mode": {
    "name": "ipython",
    "version": 3
   },
   "file_extension": ".py",
   "mimetype": "text/x-python",
   "name": "python",
   "nbconvert_exporter": "python",
   "pygments_lexer": "ipython3",
   "version": "3.11.5"
  }
 },
 "nbformat": 4,
 "nbformat_minor": 2
}
